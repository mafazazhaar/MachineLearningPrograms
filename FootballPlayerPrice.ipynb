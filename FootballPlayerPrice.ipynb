{
 "cells": [
  {
   "cell_type": "code",
   "execution_count": 1,
   "metadata": {
    "id": "DTczepzshzjO"
   },
   "outputs": [],
   "source": [
    "# Loading the necessary packages.\n",
    "import pandas as pd\n",
    "import numpy as np\n",
    "import seaborn as sns\n",
    "import matplotlib.pyplot as plt"
   ]
  },
  {
   "cell_type": "code",
   "execution_count": 2,
   "metadata": {
    "colab": {
     "base_uri": "https://localhost:8080/",
     "height": 340
    },
    "id": "_KBGughH1JGC",
    "outputId": "8c45a5d0-4aac-454c-b1ce-6b0a55e915e0"
   },
   "outputs": [
    {
     "data": {
      "text/html": [
       "<div>\n",
       "<style scoped>\n",
       "    .dataframe tbody tr th:only-of-type {\n",
       "        vertical-align: middle;\n",
       "    }\n",
       "\n",
       "    .dataframe tbody tr th {\n",
       "        vertical-align: top;\n",
       "    }\n",
       "\n",
       "    .dataframe thead th {\n",
       "        text-align: right;\n",
       "    }\n",
       "</style>\n",
       "<table border=\"1\" class=\"dataframe\">\n",
       "  <thead>\n",
       "    <tr style=\"text-align: right;\">\n",
       "      <th></th>\n",
       "      <th>Name</th>\n",
       "      <th>Age</th>\n",
       "      <th>Nationality</th>\n",
       "      <th>Overall</th>\n",
       "      <th>Potential</th>\n",
       "      <th>Club</th>\n",
       "      <th>Value</th>\n",
       "      <th>Wage</th>\n",
       "      <th>Special</th>\n",
       "      <th>Preferred Foot</th>\n",
       "      <th>International Reputation</th>\n",
       "      <th>Weak Foot</th>\n",
       "      <th>Skill Moves</th>\n",
       "      <th>Offensive Work Rate</th>\n",
       "      <th>Defensive Work Rate</th>\n",
       "      <th>Position</th>\n",
       "      <th>Height(cm)</th>\n",
       "      <th>Weight(kg)</th>\n",
       "      <th>Release Clause</th>\n",
       "      <th>Kit Number</th>\n",
       "    </tr>\n",
       "  </thead>\n",
       "  <tbody>\n",
       "    <tr>\n",
       "      <th>0</th>\n",
       "      <td>Bruno Fernandes</td>\n",
       "      <td>27</td>\n",
       "      <td>Portugal</td>\n",
       "      <td>86</td>\n",
       "      <td>87</td>\n",
       "      <td>Manchester United</td>\n",
       "      <td>78500000</td>\n",
       "      <td>190000</td>\n",
       "      <td>2305</td>\n",
       "      <td>Right</td>\n",
       "      <td>3</td>\n",
       "      <td>3</td>\n",
       "      <td>4</td>\n",
       "      <td>High</td>\n",
       "      <td>High</td>\n",
       "      <td>LCM</td>\n",
       "      <td>179</td>\n",
       "      <td>69</td>\n",
       "      <td>155000000</td>\n",
       "      <td>8</td>\n",
       "    </tr>\n",
       "    <tr>\n",
       "      <th>1</th>\n",
       "      <td>M. Acuña</td>\n",
       "      <td>30</td>\n",
       "      <td>Argentina</td>\n",
       "      <td>85</td>\n",
       "      <td>85</td>\n",
       "      <td>Sevilla FC</td>\n",
       "      <td>46500000</td>\n",
       "      <td>46000</td>\n",
       "      <td>2303</td>\n",
       "      <td>Left</td>\n",
       "      <td>2</td>\n",
       "      <td>3</td>\n",
       "      <td>3</td>\n",
       "      <td>High</td>\n",
       "      <td>High</td>\n",
       "      <td>LB</td>\n",
       "      <td>172</td>\n",
       "      <td>69</td>\n",
       "      <td>97700000</td>\n",
       "      <td>19</td>\n",
       "    </tr>\n",
       "    <tr>\n",
       "      <th>2</th>\n",
       "      <td>K. De Bruyne</td>\n",
       "      <td>31</td>\n",
       "      <td>Belgium</td>\n",
       "      <td>91</td>\n",
       "      <td>91</td>\n",
       "      <td>Manchester City</td>\n",
       "      <td>107500000</td>\n",
       "      <td>350000</td>\n",
       "      <td>2303</td>\n",
       "      <td>Right</td>\n",
       "      <td>4</td>\n",
       "      <td>5</td>\n",
       "      <td>4</td>\n",
       "      <td>High</td>\n",
       "      <td>High</td>\n",
       "      <td>RCM</td>\n",
       "      <td>181</td>\n",
       "      <td>70</td>\n",
       "      <td>198900000</td>\n",
       "      <td>17</td>\n",
       "    </tr>\n",
       "    <tr>\n",
       "      <th>3</th>\n",
       "      <td>N. Barella</td>\n",
       "      <td>25</td>\n",
       "      <td>Italy</td>\n",
       "      <td>86</td>\n",
       "      <td>89</td>\n",
       "      <td>Inter</td>\n",
       "      <td>89500000</td>\n",
       "      <td>110000</td>\n",
       "      <td>2296</td>\n",
       "      <td>Right</td>\n",
       "      <td>3</td>\n",
       "      <td>3</td>\n",
       "      <td>3</td>\n",
       "      <td>High</td>\n",
       "      <td>High</td>\n",
       "      <td>RCM</td>\n",
       "      <td>172</td>\n",
       "      <td>68</td>\n",
       "      <td>154400000</td>\n",
       "      <td>23</td>\n",
       "    </tr>\n",
       "    <tr>\n",
       "      <th>4</th>\n",
       "      <td>J. Kimmich</td>\n",
       "      <td>27</td>\n",
       "      <td>Germany</td>\n",
       "      <td>89</td>\n",
       "      <td>90</td>\n",
       "      <td>FC Bayern München</td>\n",
       "      <td>105500000</td>\n",
       "      <td>130000</td>\n",
       "      <td>2283</td>\n",
       "      <td>Right</td>\n",
       "      <td>4</td>\n",
       "      <td>4</td>\n",
       "      <td>3</td>\n",
       "      <td>High</td>\n",
       "      <td>Medium</td>\n",
       "      <td>RDM</td>\n",
       "      <td>177</td>\n",
       "      <td>75</td>\n",
       "      <td>182000000</td>\n",
       "      <td>6</td>\n",
       "    </tr>\n",
       "  </tbody>\n",
       "</table>\n",
       "</div>"
      ],
      "text/plain": [
       "              Name  Age Nationality  Overall  Potential               Club  \\\n",
       "0  Bruno Fernandes   27    Portugal       86         87  Manchester United   \n",
       "1         M. Acuña   30   Argentina       85         85         Sevilla FC   \n",
       "2     K. De Bruyne   31     Belgium       91         91    Manchester City   \n",
       "3       N. Barella   25       Italy       86         89              Inter   \n",
       "4       J. Kimmich   27     Germany       89         90  FC Bayern München   \n",
       "\n",
       "       Value    Wage  Special Preferred Foot  International Reputation  \\\n",
       "0   78500000  190000     2305          Right                         3   \n",
       "1   46500000   46000     2303           Left                         2   \n",
       "2  107500000  350000     2303          Right                         4   \n",
       "3   89500000  110000     2296          Right                         3   \n",
       "4  105500000  130000     2283          Right                         4   \n",
       "\n",
       "   Weak Foot  Skill Moves Offensive Work Rate Defensive Work Rate Position  \\\n",
       "0          3            4                High                High      LCM   \n",
       "1          3            3                High                High       LB   \n",
       "2          5            4                High                High      RCM   \n",
       "3          3            3                High                High      RCM   \n",
       "4          4            3                High              Medium      RDM   \n",
       "\n",
       "   Height(cm)  Weight(kg)  Release Clause  Kit Number  \n",
       "0         179          69       155000000           8  \n",
       "1         172          69        97700000          19  \n",
       "2         181          70       198900000          17  \n",
       "3         172          68       154400000          23  \n",
       "4         177          75       182000000           6  "
      ]
     },
     "execution_count": 2,
     "metadata": {},
     "output_type": "execute_result"
    }
   ],
   "source": [
    "# Importing the dataset and converting it into a dataframe called data.\n",
    "data=pd.read_csv(\"FIFA.csv\")\n",
    "data.head()"
   ]
  },
  {
   "cell_type": "code",
   "execution_count": 3,
   "metadata": {
    "colab": {
     "base_uri": "https://localhost:8080/"
    },
    "id": "hKGz97B93YG-",
    "outputId": "bc6b7605-4a53-44f7-999d-7266640af4ac"
   },
   "outputs": [
    {
     "data": {
      "text/plain": [
       "(4892, 20)"
      ]
     },
     "execution_count": 3,
     "metadata": {},
     "output_type": "execute_result"
    }
   ],
   "source": [
    "# Printing the dimensions of the dataset.\n",
    "data.shape"
   ]
  },
  {
   "cell_type": "code",
   "execution_count": 4,
   "metadata": {
    "colab": {
     "base_uri": "https://localhost:8080/",
     "height": 320
    },
    "id": "O5vXB64h135Q",
    "outputId": "f9cf9238-5cfa-4d1d-fd4e-67d68b192c77"
   },
   "outputs": [
    {
     "data": {
      "text/html": [
       "<div>\n",
       "<style scoped>\n",
       "    .dataframe tbody tr th:only-of-type {\n",
       "        vertical-align: middle;\n",
       "    }\n",
       "\n",
       "    .dataframe tbody tr th {\n",
       "        vertical-align: top;\n",
       "    }\n",
       "\n",
       "    .dataframe thead th {\n",
       "        text-align: right;\n",
       "    }\n",
       "</style>\n",
       "<table border=\"1\" class=\"dataframe\">\n",
       "  <thead>\n",
       "    <tr style=\"text-align: right;\">\n",
       "      <th></th>\n",
       "      <th>Name</th>\n",
       "      <th>Age</th>\n",
       "      <th>Nationality</th>\n",
       "      <th>Overall</th>\n",
       "      <th>Potential</th>\n",
       "      <th>Club</th>\n",
       "      <th>Value</th>\n",
       "      <th>Wage</th>\n",
       "      <th>Preferred Foot</th>\n",
       "      <th>International Reputation</th>\n",
       "      <th>Weak Foot</th>\n",
       "      <th>Skill Moves</th>\n",
       "      <th>Offensive Work Rate</th>\n",
       "      <th>Defensive Work Rate</th>\n",
       "      <th>Position</th>\n",
       "      <th>Height(cm)</th>\n",
       "      <th>Weight(kg)</th>\n",
       "      <th>Release Clause</th>\n",
       "    </tr>\n",
       "  </thead>\n",
       "  <tbody>\n",
       "    <tr>\n",
       "      <th>0</th>\n",
       "      <td>Bruno Fernandes</td>\n",
       "      <td>27</td>\n",
       "      <td>Portugal</td>\n",
       "      <td>86</td>\n",
       "      <td>87</td>\n",
       "      <td>Manchester United</td>\n",
       "      <td>78500000</td>\n",
       "      <td>190000</td>\n",
       "      <td>Right</td>\n",
       "      <td>3</td>\n",
       "      <td>3</td>\n",
       "      <td>4</td>\n",
       "      <td>High</td>\n",
       "      <td>High</td>\n",
       "      <td>LCM</td>\n",
       "      <td>179</td>\n",
       "      <td>69</td>\n",
       "      <td>155000000</td>\n",
       "    </tr>\n",
       "    <tr>\n",
       "      <th>1</th>\n",
       "      <td>M. Acuña</td>\n",
       "      <td>30</td>\n",
       "      <td>Argentina</td>\n",
       "      <td>85</td>\n",
       "      <td>85</td>\n",
       "      <td>Sevilla FC</td>\n",
       "      <td>46500000</td>\n",
       "      <td>46000</td>\n",
       "      <td>Left</td>\n",
       "      <td>2</td>\n",
       "      <td>3</td>\n",
       "      <td>3</td>\n",
       "      <td>High</td>\n",
       "      <td>High</td>\n",
       "      <td>LB</td>\n",
       "      <td>172</td>\n",
       "      <td>69</td>\n",
       "      <td>97700000</td>\n",
       "    </tr>\n",
       "    <tr>\n",
       "      <th>2</th>\n",
       "      <td>K. De Bruyne</td>\n",
       "      <td>31</td>\n",
       "      <td>Belgium</td>\n",
       "      <td>91</td>\n",
       "      <td>91</td>\n",
       "      <td>Manchester City</td>\n",
       "      <td>107500000</td>\n",
       "      <td>350000</td>\n",
       "      <td>Right</td>\n",
       "      <td>4</td>\n",
       "      <td>5</td>\n",
       "      <td>4</td>\n",
       "      <td>High</td>\n",
       "      <td>High</td>\n",
       "      <td>RCM</td>\n",
       "      <td>181</td>\n",
       "      <td>70</td>\n",
       "      <td>198900000</td>\n",
       "    </tr>\n",
       "    <tr>\n",
       "      <th>3</th>\n",
       "      <td>N. Barella</td>\n",
       "      <td>25</td>\n",
       "      <td>Italy</td>\n",
       "      <td>86</td>\n",
       "      <td>89</td>\n",
       "      <td>Inter</td>\n",
       "      <td>89500000</td>\n",
       "      <td>110000</td>\n",
       "      <td>Right</td>\n",
       "      <td>3</td>\n",
       "      <td>3</td>\n",
       "      <td>3</td>\n",
       "      <td>High</td>\n",
       "      <td>High</td>\n",
       "      <td>RCM</td>\n",
       "      <td>172</td>\n",
       "      <td>68</td>\n",
       "      <td>154400000</td>\n",
       "    </tr>\n",
       "    <tr>\n",
       "      <th>4</th>\n",
       "      <td>J. Kimmich</td>\n",
       "      <td>27</td>\n",
       "      <td>Germany</td>\n",
       "      <td>89</td>\n",
       "      <td>90</td>\n",
       "      <td>FC Bayern München</td>\n",
       "      <td>105500000</td>\n",
       "      <td>130000</td>\n",
       "      <td>Right</td>\n",
       "      <td>4</td>\n",
       "      <td>4</td>\n",
       "      <td>3</td>\n",
       "      <td>High</td>\n",
       "      <td>Medium</td>\n",
       "      <td>RDM</td>\n",
       "      <td>177</td>\n",
       "      <td>75</td>\n",
       "      <td>182000000</td>\n",
       "    </tr>\n",
       "  </tbody>\n",
       "</table>\n",
       "</div>"
      ],
      "text/plain": [
       "              Name  Age Nationality  Overall  Potential               Club  \\\n",
       "0  Bruno Fernandes   27    Portugal       86         87  Manchester United   \n",
       "1         M. Acuña   30   Argentina       85         85         Sevilla FC   \n",
       "2     K. De Bruyne   31     Belgium       91         91    Manchester City   \n",
       "3       N. Barella   25       Italy       86         89              Inter   \n",
       "4       J. Kimmich   27     Germany       89         90  FC Bayern München   \n",
       "\n",
       "       Value    Wage Preferred Foot  International Reputation  Weak Foot  \\\n",
       "0   78500000  190000          Right                         3          3   \n",
       "1   46500000   46000           Left                         2          3   \n",
       "2  107500000  350000          Right                         4          5   \n",
       "3   89500000  110000          Right                         3          3   \n",
       "4  105500000  130000          Right                         4          4   \n",
       "\n",
       "   Skill Moves Offensive Work Rate Defensive Work Rate Position  Height(cm)  \\\n",
       "0            4                High                High      LCM         179   \n",
       "1            3                High                High       LB         172   \n",
       "2            4                High                High      RCM         181   \n",
       "3            3                High                High      RCM         172   \n",
       "4            3                High              Medium      RDM         177   \n",
       "\n",
       "   Weight(kg)  Release Clause  \n",
       "0          69       155000000  \n",
       "1          69        97700000  \n",
       "2          70       198900000  \n",
       "3          68       154400000  \n",
       "4          75       182000000  "
      ]
     },
     "execution_count": 4,
     "metadata": {},
     "output_type": "execute_result"
    }
   ],
   "source": [
    " # Dropping the the 'Special' and 'Kit Number' columns, as these columns are not important for our analysis. \n",
    "data.drop(['Special','Kit Number'],axis=1,inplace=True)\n",
    "data.head()"
   ]
  },
  {
   "cell_type": "code",
   "execution_count": 5,
   "metadata": {
    "id": "YkZyCtWC5jmM"
   },
   "outputs": [],
   "source": [
    "# Converting the 'Value' and 'Release Clause' column into millions and the 'Wage' column into thousands.\n",
    "data['Value']=data['Value']/1000000\n",
    "data['Release Clause']=data['Release Clause']/1000000\n",
    "data['Wage']=data['Wage']/1000"
   ]
  },
  {
   "cell_type": "code",
   "execution_count": 6,
   "metadata": {
    "colab": {
     "base_uri": "https://localhost:8080/"
    },
    "id": "ce1GRy0q5q--",
    "outputId": "a084c69b-a90c-4020-f12d-894483195270"
   },
   "outputs": [
    {
     "data": {
      "text/plain": [
       "Name                        0\n",
       "Age                         0\n",
       "Nationality                 0\n",
       "Overall                     0\n",
       "Potential                   0\n",
       "Club                        0\n",
       "Value                       0\n",
       "Wage                        0\n",
       "Preferred Foot              0\n",
       "International Reputation    0\n",
       "Weak Foot                   0\n",
       "Skill Moves                 0\n",
       "Offensive Work Rate         0\n",
       "Defensive Work Rate         0\n",
       "Position                    0\n",
       "Height(cm)                  0\n",
       "Weight(kg)                  0\n",
       "Release Clause              0\n",
       "dtype: int64"
      ]
     },
     "execution_count": 6,
     "metadata": {},
     "output_type": "execute_result"
    }
   ],
   "source": [
    "# Checking for null values.\n",
    "data.isna().sum()"
   ]
  },
  {
   "cell_type": "code",
   "execution_count": 9,
   "metadata": {
    "colab": {
     "base_uri": "https://localhost:8080/"
    },
    "id": "3EVWuCv45tZh",
    "outputId": "adfc6859-d916-4d3f-8f62-fff7eeda5b91"
   },
   "outputs": [
    {
     "name": "stdout",
     "output_type": "stream",
     "text": [
      "<class 'pandas.core.frame.DataFrame'>\n",
      "RangeIndex: 4892 entries, 0 to 4891\n",
      "Data columns (total 18 columns):\n",
      " #   Column                    Non-Null Count  Dtype  \n",
      "---  ------                    --------------  -----  \n",
      " 0   Name                      4892 non-null   object \n",
      " 1   Age                       4892 non-null   int64  \n",
      " 2   Nationality               4892 non-null   object \n",
      " 3   Overall                   4892 non-null   int64  \n",
      " 4   Potential                 4892 non-null   int64  \n",
      " 5   Club                      4892 non-null   object \n",
      " 6   Value                     4892 non-null   float64\n",
      " 7   Wage                      4892 non-null   float64\n",
      " 8   Preferred Foot            4892 non-null   object \n",
      " 9   International Reputation  4892 non-null   int64  \n",
      " 10  Weak Foot                 4892 non-null   int64  \n",
      " 11  Skill Moves               4892 non-null   int64  \n",
      " 12  Offensive Work Rate       4892 non-null   object \n",
      " 13  Defensive Work Rate       4892 non-null   object \n",
      " 14  Position                  4892 non-null   object \n",
      " 15  Height(cm)                4892 non-null   int64  \n",
      " 16  Weight(kg)                4892 non-null   int64  \n",
      " 17  Release Clause            4892 non-null   float64\n",
      "dtypes: float64(3), int64(8), object(7)\n",
      "memory usage: 688.1+ KB\n"
     ]
    }
   ],
   "source": [
    "# Printing information about the dataframe.\n",
    "data.info()"
   ]
  },
  {
   "cell_type": "code",
   "execution_count": 10,
   "metadata": {
    "colab": {
     "base_uri": "https://localhost:8080/",
     "height": 300
    },
    "id": "Z1NS_3wN5vaa",
    "outputId": "ad88a228-2f9b-4df4-b4be-4e200727515e"
   },
   "outputs": [
    {
     "data": {
      "text/html": [
       "<div>\n",
       "<style scoped>\n",
       "    .dataframe tbody tr th:only-of-type {\n",
       "        vertical-align: middle;\n",
       "    }\n",
       "\n",
       "    .dataframe tbody tr th {\n",
       "        vertical-align: top;\n",
       "    }\n",
       "\n",
       "    .dataframe thead th {\n",
       "        text-align: right;\n",
       "    }\n",
       "</style>\n",
       "<table border=\"1\" class=\"dataframe\">\n",
       "  <thead>\n",
       "    <tr style=\"text-align: right;\">\n",
       "      <th></th>\n",
       "      <th>Age</th>\n",
       "      <th>Overall</th>\n",
       "      <th>Potential</th>\n",
       "      <th>Value</th>\n",
       "      <th>Wage</th>\n",
       "      <th>International Reputation</th>\n",
       "      <th>Weak Foot</th>\n",
       "      <th>Skill Moves</th>\n",
       "      <th>Height(cm)</th>\n",
       "      <th>Weight(kg)</th>\n",
       "      <th>Release Clause</th>\n",
       "    </tr>\n",
       "  </thead>\n",
       "  <tbody>\n",
       "    <tr>\n",
       "      <th>count</th>\n",
       "      <td>4892.000000</td>\n",
       "      <td>4892.000000</td>\n",
       "      <td>4892.000000</td>\n",
       "      <td>4892.000000</td>\n",
       "      <td>4892.000000</td>\n",
       "      <td>4892.000000</td>\n",
       "      <td>4892.000000</td>\n",
       "      <td>4892.000000</td>\n",
       "      <td>4892.000000</td>\n",
       "      <td>4892.000000</td>\n",
       "      <td>4892.000000</td>\n",
       "    </tr>\n",
       "    <tr>\n",
       "      <th>mean</th>\n",
       "      <td>25.742232</td>\n",
       "      <td>69.194603</td>\n",
       "      <td>73.411079</td>\n",
       "      <td>5.942886</td>\n",
       "      <td>15.066251</td>\n",
       "      <td>1.209117</td>\n",
       "      <td>2.992232</td>\n",
       "      <td>2.516558</td>\n",
       "      <td>181.051922</td>\n",
       "      <td>75.150654</td>\n",
       "      <td>10.792265</td>\n",
       "    </tr>\n",
       "    <tr>\n",
       "      <th>std</th>\n",
       "      <td>4.478759</td>\n",
       "      <td>7.004347</td>\n",
       "      <td>6.591605</td>\n",
       "      <td>12.723465</td>\n",
       "      <td>29.924735</td>\n",
       "      <td>0.570715</td>\n",
       "      <td>0.690163</td>\n",
       "      <td>0.803751</td>\n",
       "      <td>6.980166</td>\n",
       "      <td>7.048739</td>\n",
       "      <td>24.548863</td>\n",
       "    </tr>\n",
       "    <tr>\n",
       "      <th>min</th>\n",
       "      <td>16.000000</td>\n",
       "      <td>47.000000</td>\n",
       "      <td>51.000000</td>\n",
       "      <td>0.000000</td>\n",
       "      <td>0.000000</td>\n",
       "      <td>1.000000</td>\n",
       "      <td>1.000000</td>\n",
       "      <td>1.000000</td>\n",
       "      <td>156.000000</td>\n",
       "      <td>49.000000</td>\n",
       "      <td>0.000000</td>\n",
       "    </tr>\n",
       "    <tr>\n",
       "      <th>25%</th>\n",
       "      <td>22.000000</td>\n",
       "      <td>64.000000</td>\n",
       "      <td>69.000000</td>\n",
       "      <td>0.775000</td>\n",
       "      <td>1.000000</td>\n",
       "      <td>1.000000</td>\n",
       "      <td>3.000000</td>\n",
       "      <td>2.000000</td>\n",
       "      <td>176.000000</td>\n",
       "      <td>70.000000</td>\n",
       "      <td>1.100000</td>\n",
       "    </tr>\n",
       "    <tr>\n",
       "      <th>50%</th>\n",
       "      <td>25.000000</td>\n",
       "      <td>69.000000</td>\n",
       "      <td>73.000000</td>\n",
       "      <td>1.700000</td>\n",
       "      <td>4.000000</td>\n",
       "      <td>1.000000</td>\n",
       "      <td>3.000000</td>\n",
       "      <td>2.000000</td>\n",
       "      <td>181.000000</td>\n",
       "      <td>75.000000</td>\n",
       "      <td>2.700000</td>\n",
       "    </tr>\n",
       "    <tr>\n",
       "      <th>75%</th>\n",
       "      <td>29.000000</td>\n",
       "      <td>74.000000</td>\n",
       "      <td>78.000000</td>\n",
       "      <td>4.500000</td>\n",
       "      <td>16.000000</td>\n",
       "      <td>1.000000</td>\n",
       "      <td>3.000000</td>\n",
       "      <td>3.000000</td>\n",
       "      <td>186.000000</td>\n",
       "      <td>80.000000</td>\n",
       "      <td>7.700000</td>\n",
       "    </tr>\n",
       "    <tr>\n",
       "      <th>max</th>\n",
       "      <td>44.000000</td>\n",
       "      <td>91.000000</td>\n",
       "      <td>95.000000</td>\n",
       "      <td>190.500000</td>\n",
       "      <td>450.000000</td>\n",
       "      <td>5.000000</td>\n",
       "      <td>5.000000</td>\n",
       "      <td>5.000000</td>\n",
       "      <td>206.000000</td>\n",
       "      <td>102.000000</td>\n",
       "      <td>366.700000</td>\n",
       "    </tr>\n",
       "  </tbody>\n",
       "</table>\n",
       "</div>"
      ],
      "text/plain": [
       "               Age      Overall    Potential        Value         Wage  \\\n",
       "count  4892.000000  4892.000000  4892.000000  4892.000000  4892.000000   \n",
       "mean     25.742232    69.194603    73.411079     5.942886    15.066251   \n",
       "std       4.478759     7.004347     6.591605    12.723465    29.924735   \n",
       "min      16.000000    47.000000    51.000000     0.000000     0.000000   \n",
       "25%      22.000000    64.000000    69.000000     0.775000     1.000000   \n",
       "50%      25.000000    69.000000    73.000000     1.700000     4.000000   \n",
       "75%      29.000000    74.000000    78.000000     4.500000    16.000000   \n",
       "max      44.000000    91.000000    95.000000   190.500000   450.000000   \n",
       "\n",
       "       International Reputation    Weak Foot  Skill Moves   Height(cm)  \\\n",
       "count               4892.000000  4892.000000  4892.000000  4892.000000   \n",
       "mean                   1.209117     2.992232     2.516558   181.051922   \n",
       "std                    0.570715     0.690163     0.803751     6.980166   \n",
       "min                    1.000000     1.000000     1.000000   156.000000   \n",
       "25%                    1.000000     3.000000     2.000000   176.000000   \n",
       "50%                    1.000000     3.000000     2.000000   181.000000   \n",
       "75%                    1.000000     3.000000     3.000000   186.000000   \n",
       "max                    5.000000     5.000000     5.000000   206.000000   \n",
       "\n",
       "        Weight(kg)  Release Clause  \n",
       "count  4892.000000     4892.000000  \n",
       "mean     75.150654       10.792265  \n",
       "std       7.048739       24.548863  \n",
       "min      49.000000        0.000000  \n",
       "25%      70.000000        1.100000  \n",
       "50%      75.000000        2.700000  \n",
       "75%      80.000000        7.700000  \n",
       "max     102.000000      366.700000  "
      ]
     },
     "execution_count": 10,
     "metadata": {},
     "output_type": "execute_result"
    }
   ],
   "source": [
    "# Basic summary statistics.\n",
    "data.describe()"
   ]
  },
  {
   "cell_type": "markdown",
   "metadata": {
    "id": "Jy-JJ-ly557l"
   },
   "source": [
    "## Exploratory Data Analysis (EDA)"
   ]
  },
  {
   "cell_type": "code",
   "execution_count": 11,
   "metadata": {
    "colab": {
     "base_uri": "https://localhost:8080/",
     "height": 206
    },
    "id": "9syT8B1Z52U4",
    "outputId": "8e15a88d-c7ac-44e1-9406-9ee6f35afab3"
   },
   "outputs": [
    {
     "data": {
      "text/html": [
       "<div>\n",
       "<style scoped>\n",
       "    .dataframe tbody tr th:only-of-type {\n",
       "        vertical-align: middle;\n",
       "    }\n",
       "\n",
       "    .dataframe tbody tr th {\n",
       "        vertical-align: top;\n",
       "    }\n",
       "\n",
       "    .dataframe thead th {\n",
       "        text-align: right;\n",
       "    }\n",
       "</style>\n",
       "<table border=\"1\" class=\"dataframe\">\n",
       "  <thead>\n",
       "    <tr style=\"text-align: right;\">\n",
       "      <th></th>\n",
       "      <th>Name</th>\n",
       "      <th>Age</th>\n",
       "      <th>Club</th>\n",
       "      <th>Value</th>\n",
       "    </tr>\n",
       "  </thead>\n",
       "  <tbody>\n",
       "    <tr>\n",
       "      <th>59</th>\n",
       "      <td>K. Mbappé</td>\n",
       "      <td>23</td>\n",
       "      <td>Paris Saint-Germain</td>\n",
       "      <td>190.5</td>\n",
       "    </tr>\n",
       "    <tr>\n",
       "      <th>126</th>\n",
       "      <td>E. Haaland</td>\n",
       "      <td>21</td>\n",
       "      <td>Manchester City</td>\n",
       "      <td>148.0</td>\n",
       "    </tr>\n",
       "    <tr>\n",
       "      <th>13</th>\n",
       "      <td>F. de Jong</td>\n",
       "      <td>25</td>\n",
       "      <td>FC Barcelona</td>\n",
       "      <td>116.5</td>\n",
       "    </tr>\n",
       "    <tr>\n",
       "      <th>151</th>\n",
       "      <td>Pedri</td>\n",
       "      <td>19</td>\n",
       "      <td>FC Barcelona</td>\n",
       "      <td>116.0</td>\n",
       "    </tr>\n",
       "    <tr>\n",
       "      <th>21</th>\n",
       "      <td>M. Salah</td>\n",
       "      <td>30</td>\n",
       "      <td>Liverpool</td>\n",
       "      <td>115.5</td>\n",
       "    </tr>\n",
       "  </tbody>\n",
       "</table>\n",
       "</div>"
      ],
      "text/plain": [
       "           Name  Age                 Club  Value\n",
       "59    K. Mbappé   23  Paris Saint-Germain  190.5\n",
       "126  E. Haaland   21      Manchester City  148.0\n",
       "13   F. de Jong   25         FC Barcelona  116.5\n",
       "151       Pedri   19         FC Barcelona  116.0\n",
       "21     M. Salah   30            Liverpool  115.5"
      ]
     },
     "execution_count": 11,
     "metadata": {},
     "output_type": "execute_result"
    }
   ],
   "source": [
    "data.nlargest(5,columns=\"Value\")[[\"Name\",\"Age\",\"Club\",\"Value\"]]"
   ]
  },
  {
   "cell_type": "code",
   "execution_count": 12,
   "metadata": {
    "colab": {
     "base_uri": "https://localhost:8080/",
     "height": 206
    },
    "id": "8QTU6scO6Eoy",
    "outputId": "774e26b5-c29f-430c-cf4e-e1a29661fd9b"
   },
   "outputs": [
    {
     "data": {
      "text/html": [
       "<div>\n",
       "<style scoped>\n",
       "    .dataframe tbody tr th:only-of-type {\n",
       "        vertical-align: middle;\n",
       "    }\n",
       "\n",
       "    .dataframe tbody tr th {\n",
       "        vertical-align: top;\n",
       "    }\n",
       "\n",
       "    .dataframe thead th {\n",
       "        text-align: right;\n",
       "    }\n",
       "</style>\n",
       "<table border=\"1\" class=\"dataframe\">\n",
       "  <thead>\n",
       "    <tr style=\"text-align: right;\">\n",
       "      <th></th>\n",
       "      <th>Name</th>\n",
       "      <th>Age</th>\n",
       "      <th>Club</th>\n",
       "      <th>Overall</th>\n",
       "    </tr>\n",
       "  </thead>\n",
       "  <tbody>\n",
       "    <tr>\n",
       "      <th>2</th>\n",
       "      <td>K. De Bruyne</td>\n",
       "      <td>31</td>\n",
       "      <td>Manchester City</td>\n",
       "      <td>91</td>\n",
       "    </tr>\n",
       "    <tr>\n",
       "      <th>33</th>\n",
       "      <td>R. Lewandowski</td>\n",
       "      <td>33</td>\n",
       "      <td>FC Barcelona</td>\n",
       "      <td>91</td>\n",
       "    </tr>\n",
       "    <tr>\n",
       "      <th>45</th>\n",
       "      <td>L. Messi</td>\n",
       "      <td>35</td>\n",
       "      <td>Paris Saint-Germain</td>\n",
       "      <td>91</td>\n",
       "    </tr>\n",
       "    <tr>\n",
       "      <th>59</th>\n",
       "      <td>K. Mbappé</td>\n",
       "      <td>23</td>\n",
       "      <td>Paris Saint-Germain</td>\n",
       "      <td>91</td>\n",
       "    </tr>\n",
       "    <tr>\n",
       "      <th>95</th>\n",
       "      <td>K. Benzema</td>\n",
       "      <td>34</td>\n",
       "      <td>Real Madrid CF</td>\n",
       "      <td>91</td>\n",
       "    </tr>\n",
       "  </tbody>\n",
       "</table>\n",
       "</div>"
      ],
      "text/plain": [
       "              Name  Age                 Club  Overall\n",
       "2     K. De Bruyne   31      Manchester City       91\n",
       "33  R. Lewandowski   33         FC Barcelona       91\n",
       "45        L. Messi   35  Paris Saint-Germain       91\n",
       "59       K. Mbappé   23  Paris Saint-Germain       91\n",
       "95      K. Benzema   34       Real Madrid CF       91"
      ]
     },
     "execution_count": 12,
     "metadata": {},
     "output_type": "execute_result"
    }
   ],
   "source": [
    "data.nlargest(5,columns=\"Overall\")[[\"Name\",\"Age\",\"Club\",\"Overall\"]]"
   ]
  },
  {
   "cell_type": "code",
   "execution_count": 13,
   "metadata": {
    "colab": {
     "base_uri": "https://localhost:8080/",
     "height": 238
    },
    "id": "bP4PBKJE6G-X",
    "outputId": "7c881faf-47cf-4bef-ab33-f63b0ee8af36"
   },
   "outputs": [
    {
     "data": {
      "text/html": [
       "<div>\n",
       "<style scoped>\n",
       "    .dataframe tbody tr th:only-of-type {\n",
       "        vertical-align: middle;\n",
       "    }\n",
       "\n",
       "    .dataframe tbody tr th {\n",
       "        vertical-align: top;\n",
       "    }\n",
       "\n",
       "    .dataframe thead th {\n",
       "        text-align: right;\n",
       "    }\n",
       "</style>\n",
       "<table border=\"1\" class=\"dataframe\">\n",
       "  <thead>\n",
       "    <tr style=\"text-align: right;\">\n",
       "      <th></th>\n",
       "      <th>Value</th>\n",
       "    </tr>\n",
       "    <tr>\n",
       "      <th>Position</th>\n",
       "      <th></th>\n",
       "    </tr>\n",
       "  </thead>\n",
       "  <tbody>\n",
       "    <tr>\n",
       "      <th>CF</th>\n",
       "      <td>16.990909</td>\n",
       "    </tr>\n",
       "    <tr>\n",
       "      <th>RAM</th>\n",
       "      <td>14.750000</td>\n",
       "    </tr>\n",
       "    <tr>\n",
       "      <th>RF</th>\n",
       "      <td>9.752500</td>\n",
       "    </tr>\n",
       "    <tr>\n",
       "      <th>LW</th>\n",
       "      <td>9.375034</td>\n",
       "    </tr>\n",
       "    <tr>\n",
       "      <th>RW</th>\n",
       "      <td>8.916857</td>\n",
       "    </tr>\n",
       "  </tbody>\n",
       "</table>\n",
       "</div>"
      ],
      "text/plain": [
       "              Value\n",
       "Position           \n",
       "CF        16.990909\n",
       "RAM       14.750000\n",
       "RF         9.752500\n",
       "LW         9.375034\n",
       "RW         8.916857"
      ]
     },
     "execution_count": 13,
     "metadata": {},
     "output_type": "execute_result"
    }
   ],
   "source": [
    "pd.DataFrame(data.groupby(\"Position\").Value.mean().sort_values(ascending=False)).head()"
   ]
  },
  {
   "cell_type": "code",
   "execution_count": 14,
   "metadata": {
    "colab": {
     "base_uri": "https://localhost:8080/",
     "height": 300
    },
    "id": "qfWXslxk6JCA",
    "outputId": "cfd0c75f-6b19-41e1-dab8-cc585f3c2d8d"
   },
   "outputs": [
    {
     "data": {
      "text/html": [
       "<div>\n",
       "<style scoped>\n",
       "    .dataframe tbody tr th:only-of-type {\n",
       "        vertical-align: middle;\n",
       "    }\n",
       "\n",
       "    .dataframe tbody tr th {\n",
       "        vertical-align: top;\n",
       "    }\n",
       "\n",
       "    .dataframe thead th {\n",
       "        text-align: right;\n",
       "    }\n",
       "</style>\n",
       "<table border=\"1\" class=\"dataframe\">\n",
       "  <thead>\n",
       "    <tr style=\"text-align: right;\">\n",
       "      <th></th>\n",
       "      <th>Age</th>\n",
       "      <th>Height(cm)</th>\n",
       "      <th>Weight(kg)</th>\n",
       "    </tr>\n",
       "  </thead>\n",
       "  <tbody>\n",
       "    <tr>\n",
       "      <th>count</th>\n",
       "      <td>4892.000000</td>\n",
       "      <td>4892.000000</td>\n",
       "      <td>4892.000000</td>\n",
       "    </tr>\n",
       "    <tr>\n",
       "      <th>mean</th>\n",
       "      <td>25.742232</td>\n",
       "      <td>181.051922</td>\n",
       "      <td>75.150654</td>\n",
       "    </tr>\n",
       "    <tr>\n",
       "      <th>std</th>\n",
       "      <td>4.478759</td>\n",
       "      <td>6.980166</td>\n",
       "      <td>7.048739</td>\n",
       "    </tr>\n",
       "    <tr>\n",
       "      <th>min</th>\n",
       "      <td>16.000000</td>\n",
       "      <td>156.000000</td>\n",
       "      <td>49.000000</td>\n",
       "    </tr>\n",
       "    <tr>\n",
       "      <th>25%</th>\n",
       "      <td>22.000000</td>\n",
       "      <td>176.000000</td>\n",
       "      <td>70.000000</td>\n",
       "    </tr>\n",
       "    <tr>\n",
       "      <th>50%</th>\n",
       "      <td>25.000000</td>\n",
       "      <td>181.000000</td>\n",
       "      <td>75.000000</td>\n",
       "    </tr>\n",
       "    <tr>\n",
       "      <th>75%</th>\n",
       "      <td>29.000000</td>\n",
       "      <td>186.000000</td>\n",
       "      <td>80.000000</td>\n",
       "    </tr>\n",
       "    <tr>\n",
       "      <th>max</th>\n",
       "      <td>44.000000</td>\n",
       "      <td>206.000000</td>\n",
       "      <td>102.000000</td>\n",
       "    </tr>\n",
       "  </tbody>\n",
       "</table>\n",
       "</div>"
      ],
      "text/plain": [
       "               Age   Height(cm)   Weight(kg)\n",
       "count  4892.000000  4892.000000  4892.000000\n",
       "mean     25.742232   181.051922    75.150654\n",
       "std       4.478759     6.980166     7.048739\n",
       "min      16.000000   156.000000    49.000000\n",
       "25%      22.000000   176.000000    70.000000\n",
       "50%      25.000000   181.000000    75.000000\n",
       "75%      29.000000   186.000000    80.000000\n",
       "max      44.000000   206.000000   102.000000"
      ]
     },
     "execution_count": 14,
     "metadata": {},
     "output_type": "execute_result"
    }
   ],
   "source": [
    "data[[\"Age\",\"Height(cm)\",\"Weight(kg)\"]].describe()"
   ]
  },
  {
   "cell_type": "code",
   "execution_count": 15,
   "metadata": {
    "colab": {
     "base_uri": "https://localhost:8080/",
     "height": 432
    },
    "id": "HOV-E84v7Nl8",
    "outputId": "09b3703c-ff0b-4e6c-d79f-292b4628722f"
   },
   "outputs": [
    {
     "data": {
      "image/png": "[encoded data removed]",
      "text/plain": [
       "<Figure size 576x360 with 1 Axes>"
      ]
     },
     "metadata": {
      "needs_background": "light"
     },
     "output_type": "display_data"
    }
   ],
   "source": [
    "plt.figure(figsize=(8,5))\n",
    "sns.boxenplot(y='Value', data=data, width=0.5)\n",
    "plt.show()"
   ]
  },
  {
   "cell_type": "code",
   "execution_count": 16,
   "metadata": {
    "colab": {
     "base_uri": "https://localhost:8080/",
     "height": 466
    },
    "id": "98JvnXt04WRG",
    "outputId": "7a79766b-6deb-4285-e637-b747d910a61f"
   },
   "outputs": [
    {
     "data": {
      "text/plain": [
       "<matplotlib.axes._subplots.AxesSubplot at 0x1aeefbf6ee0>"
      ]
     },
     "execution_count": 16,
     "metadata": {},
     "output_type": "execute_result"
    },
    {
     "data": {
      "image/png": "[encoded data removed]",
      "text/plain": [
       "<Figure size 432x288 with 1 Axes>"
      ]
     },
     "metadata": {
      "needs_background": "light"
     },
     "output_type": "display_data"
    }
   ],
   "source": [
    "sns.kdeplot(data.Value)"
   ]
  },
  {
   "cell_type": "code",
   "execution_count": 17,
   "metadata": {
    "colab": {
     "base_uri": "https://localhost:8080/",
     "height": 470
    },
    "id": "8O0aIKGV5Q6b",
    "outputId": "20c80d7e-6335-4411-f1ab-da8c790ed3a6"
   },
   "outputs": [
    {
     "data": {
      "text/plain": [
       "<matplotlib.axes._subplots.AxesSubplot at 0x1aeefcb1760>"
      ]
     },
     "execution_count": 17,
     "metadata": {},
     "output_type": "execute_result"
    },
    {
     "data": {
      "image/png": "[encoded data removed]",
      "text/plain": [
       "<Figure size 432x288 with 1 Axes>"
      ]
     },
     "metadata": {
      "needs_background": "light"
     },
     "output_type": "display_data"
    }
   ],
   "source": [
    "sns.regplot(x=\"Overall\",y=\"Value\",data=data)"
   ]
  },
  {
   "cell_type": "code",
   "execution_count": 18,
   "metadata": {
    "colab": {
     "base_uri": "https://localhost:8080/"
    },
    "id": "cegrRxDWVypF",
    "outputId": "e08372c6-be1e-4d16-abc0-0d5c6b71fcf2"
   },
   "outputs": [
    {
     "data": {
      "text/plain": [
       "array(['LCM', 'LB', 'RCM', 'RDM', 'LCB', 'RS', 'RB', 'LM', 'LS', 'RWB',\n",
       "       'CDM', 'RW', 'RM', 'LF', 'LWB', 'ST', 'CAM', 'LDM', 'LW', 'CF',\n",
       "       'RF', 'RCB', 'CM', 'CB', 'RAM', 'LAM', 'GK'], dtype=object)"
      ]
     },
     "execution_count": 18,
     "metadata": {},
     "output_type": "execute_result"
    }
   ],
   "source": [
    "# Unique player positions.\n",
    "data['Position'].unique()"
   ]
  },
  {
   "cell_type": "code",
   "execution_count": 19,
   "metadata": {
    "colab": {
     "base_uri": "https://localhost:8080/"
    },
    "id": "-F2PUx_HV--J",
    "outputId": "d414fb51-5682-4cac-9cfd-7eb819ee621b"
   },
   "outputs": [
    {
     "data": {
      "text/plain": [
       "27"
      ]
     },
     "execution_count": 19,
     "metadata": {},
     "output_type": "execute_result"
    }
   ],
   "source": [
    "# Total number of player positions.\n",
    "len(data['Position'].unique())"
   ]
  },
  {
   "cell_type": "code",
   "execution_count": 20,
   "metadata": {
    "colab": {
     "base_uri": "https://localhost:8080/",
     "height": 891
    },
    "id": "qQadOoRF5jBs",
    "outputId": "1956be15-b8cd-4873-c864-7580cd3a8413"
   },
   "outputs": [
    {
     "data": {
      "image/png": "[encoded data removed]",
      "text/plain": [
       "<Figure size 720x720 with 1 Axes>"
      ]
     },
     "metadata": {
      "needs_background": "light"
     },
     "output_type": "display_data"
    }
   ],
   "source": [
    "# Bar plot for Positions vs Value of players.\n",
    "plt.figure(figsize=(10,10))\n",
    "loc=data.Position.value_counts()\n",
    "loc.plot(kind='bar')\n",
    "plt.title(\"Player's Positions Distribution\")\n",
    "plt.xlabel('Positions')\n",
    "plt.ylabel('Value')\n",
    "plt.show()"
   ]
  },
  {
   "cell_type": "code",
   "execution_count": 21,
   "metadata": {
    "colab": {
     "base_uri": "https://localhost:8080/",
     "height": 523
    },
    "id": "XBWDmBYJ6-49",
    "outputId": "748513af-1abf-494f-a841-cb0dd00e7dd2"
   },
   "outputs": [
    {
     "data": {
      "text/plain": [
       "<Figure size 2000x2000 with 0 Axes>"
      ]
     },
     "metadata": {},
     "output_type": "display_data"
    },
    {
     "data": {
      "image/png": "[encoded data removed]",
      "text/plain": [
       "<Figure size 360x360 with 1 Axes>"
      ]
     },
     "metadata": {
      "needs_background": "light"
     },
     "output_type": "display_data"
    }
   ],
   "source": [
    "# Cat plot for Preferred Foot vs Value.\n",
    "plt.figure(figsize=(10,10),dpi=200)\n",
    "graph = sns.catplot(y=\"Preferred Foot\", x=\"Value\", kind=\"bar\",  data=data)\n",
    "plt.show()"
   ]
  },
  {
   "cell_type": "code",
   "execution_count": 22,
   "metadata": {
    "colab": {
     "base_uri": "https://localhost:8080/",
     "height": 917
    },
    "id": "9Sd_2GpC8Ad7",
    "outputId": "eedc14ad-90a6-4d2c-8ff9-e6e3ba29a75c"
   },
   "outputs": [
    {
     "data": {
      "image/png": "[encoded data removed]",
      "text/plain": [
       "<Figure size 864x576 with 2 Axes>"
      ]
     },
     "metadata": {
      "needs_background": "light"
     },
     "output_type": "display_data"
    }
   ],
   "source": [
    "# Correlation Matrix.\n",
    "corr_mat = data.corr()\n",
    "plt.figure(figsize = (12,8))\n",
    "sns.heatmap(corr_mat,annot = True, cmap = \"Reds\")\n",
    "plt.title(\"Correlation Heatmap\", fontsize = 20);"
   ]
  },
  {
   "cell_type": "code",
   "execution_count": 23,
   "metadata": {
    "colab": {
     "base_uri": "https://localhost:8080/",
     "height": 363
    },
    "id": "jZSZQ7FB8Mhr",
    "outputId": "a80f6660-844b-481d-c5b7-ccf311d790b4"
   },
   "outputs": [
    {
     "data": {
      "text/html": [
       "<div>\n",
       "<style scoped>\n",
       "    .dataframe tbody tr th:only-of-type {\n",
       "        vertical-align: middle;\n",
       "    }\n",
       "\n",
       "    .dataframe tbody tr th {\n",
       "        vertical-align: top;\n",
       "    }\n",
       "\n",
       "    .dataframe thead th {\n",
       "        text-align: right;\n",
       "    }\n",
       "</style>\n",
       "<table border=\"1\" class=\"dataframe\">\n",
       "  <thead>\n",
       "    <tr style=\"text-align: right;\">\n",
       "      <th></th>\n",
       "      <th>Value</th>\n",
       "    </tr>\n",
       "  </thead>\n",
       "  <tbody>\n",
       "    <tr>\n",
       "      <th>Value</th>\n",
       "      <td>1.000000</td>\n",
       "    </tr>\n",
       "    <tr>\n",
       "      <th>Release Clause</th>\n",
       "      <td>0.980684</td>\n",
       "    </tr>\n",
       "    <tr>\n",
       "      <th>Wage</th>\n",
       "      <td>0.824957</td>\n",
       "    </tr>\n",
       "    <tr>\n",
       "      <th>Overall</th>\n",
       "      <td>0.659361</td>\n",
       "    </tr>\n",
       "    <tr>\n",
       "      <th>Potential</th>\n",
       "      <td>0.627573</td>\n",
       "    </tr>\n",
       "    <tr>\n",
       "      <th>International Reputation</th>\n",
       "      <td>0.564687</td>\n",
       "    </tr>\n",
       "    <tr>\n",
       "      <th>Skill Moves</th>\n",
       "      <td>0.259173</td>\n",
       "    </tr>\n",
       "    <tr>\n",
       "      <th>Weak Foot</th>\n",
       "      <td>0.181913</td>\n",
       "    </tr>\n",
       "    <tr>\n",
       "      <th>Height(cm)</th>\n",
       "      <td>0.051209</td>\n",
       "    </tr>\n",
       "    <tr>\n",
       "      <th>Weight(kg)</th>\n",
       "      <td>0.050237</td>\n",
       "    </tr>\n",
       "  </tbody>\n",
       "</table>\n",
       "</div>"
      ],
      "text/plain": [
       "                             Value\n",
       "Value                     1.000000\n",
       "Release Clause            0.980684\n",
       "Wage                      0.824957\n",
       "Overall                   0.659361\n",
       "Potential                 0.627573\n",
       "International Reputation  0.564687\n",
       "Skill Moves               0.259173\n",
       "Weak Foot                 0.181913\n",
       "Height(cm)                0.051209\n",
       "Weight(kg)                0.050237"
      ]
     },
     "execution_count": 23,
     "metadata": {},
     "output_type": "execute_result"
    }
   ],
   "source": [
    "pd.DataFrame(corr_mat[\"Value\"]).sort_values(\"Value\",ascending=False).head(10)"
   ]
  },
  {
   "cell_type": "code",
   "execution_count": 24,
   "metadata": {
    "colab": {
     "base_uri": "https://localhost:8080/",
     "height": 472
    },
    "id": "ye85B0c38XNh",
    "outputId": "6e5df7d1-a321-42df-e19e-55265f565f43"
   },
   "outputs": [
    {
     "data": {
      "text/plain": [
       "Text(0, 0.5, 'Value')"
      ]
     },
     "execution_count": 24,
     "metadata": {},
     "output_type": "execute_result"
    },
    {
     "data": {
      "image/png": "[encoded data removed]",
      "text/plain": [
       "<Figure size 432x288 with 1 Axes>"
      ]
     },
     "metadata": {
      "needs_background": "light"
     },
     "output_type": "display_data"
    }
   ],
   "source": [
    "# Plot for Value vs Age.\n",
    "plt.scatter(data['Age'],data['Value'])\n",
    "plt.xlabel('Age')\n",
    "plt.ylabel('Value')"
   ]
  },
  {
   "cell_type": "code",
   "execution_count": 25,
   "metadata": {
    "colab": {
     "base_uri": "https://localhost:8080/",
     "height": 472
    },
    "id": "laSBrhlr-yiu",
    "outputId": "461e9904-54e9-420b-e951-4f2760c7cfcb"
   },
   "outputs": [
    {
     "data": {
      "text/plain": [
       "Text(0, 0.5, 'Value')"
      ]
     },
     "execution_count": 25,
     "metadata": {},
     "output_type": "execute_result"
    },
    {
     "data": {
      "image/png": "[encoded data removed]",
      "text/plain": [
       "<Figure size 432x288 with 1 Axes>"
      ]
     },
     "metadata": {
      "needs_background": "light"
     },
     "output_type": "display_data"
    }
   ],
   "source": [
    "# Plot for Value vs Height(cm).\n",
    "plt.scatter(data['Height(cm)'],data['Value'])\n",
    "plt.xlabel('Height(cm)')\n",
    "plt.ylabel('Value')"
   ]
  },
  {
   "cell_type": "code",
   "execution_count": 26,
   "metadata": {
    "colab": {
     "base_uri": "https://localhost:8080/",
     "height": 472
    },
    "id": "Qk2KIDq8_ZpV",
    "outputId": "ce621e37-d15b-43d3-98ff-a318e651005d"
   },
   "outputs": [
    {
     "data": {
      "text/plain": [
       "Text(0, 0.5, 'Value')"
      ]
     },
     "execution_count": 26,
     "metadata": {},
     "output_type": "execute_result"
    },
    {
     "data": {
      "image/png": "[encoded data removed]",
      "text/plain": [
       "<Figure size 432x288 with 1 Axes>"
      ]
     },
     "metadata": {
      "needs_background": "light"
     },
     "output_type": "display_data"
    }
   ],
   "source": [
    "# Plot for Value vs Weight(kg).\n",
    "plt.scatter(data['Weight(kg)'],data['Value'])\n",
    "plt.xlabel('Weight(kg)')\n",
    "plt.ylabel('Value')"
   ]
  },
  {
   "cell_type": "code",
   "execution_count": 27,
   "metadata": {
    "colab": {
     "base_uri": "https://localhost:8080/"
    },
    "id": "NUnOjoljBaCN",
    "outputId": "d8e3dcd3-3ff3-4a46-c7cb-b548bd4640fe"
   },
   "outputs": [
    {
     "name": "stdout",
     "output_type": "stream",
     "text": [
      "<class 'pandas.core.frame.DataFrame'>\n",
      "RangeIndex: 4892 entries, 0 to 4891\n",
      "Data columns (total 18 columns):\n",
      " #   Column                    Non-Null Count  Dtype  \n",
      "---  ------                    --------------  -----  \n",
      " 0   Name                      4892 non-null   object \n",
      " 1   Age                       4892 non-null   int64  \n",
      " 2   Nationality               4892 non-null   object \n",
      " 3   Overall                   4892 non-null   int64  \n",
      " 4   Potential                 4892 non-null   int64  \n",
      " 5   Club                      4892 non-null   object \n",
      " 6   Value                     4892 non-null   float64\n",
      " 7   Wage                      4892 non-null   float64\n",
      " 8   Preferred Foot            4892 non-null   object \n",
      " 9   International Reputation  4892 non-null   int64  \n",
      " 10  Weak Foot                 4892 non-null   int64  \n",
      " 11  Skill Moves               4892 non-null   int64  \n",
      " 12  Offensive Work Rate       4892 non-null   object \n",
      " 13  Defensive Work Rate       4892 non-null   object \n",
      " 14  Position                  4892 non-null   object \n",
      " 15  Height(cm)                4892 non-null   int64  \n",
      " 16  Weight(kg)                4892 non-null   int64  \n",
      " 17  Release Clause            4892 non-null   float64\n",
      "dtypes: float64(3), int64(8), object(7)\n",
      "memory usage: 688.1+ KB\n"
     ]
    }
   ],
   "source": [
    "# Loading the necessary packages for modeling.\n",
    "from sklearn.linear_model import Ridge, Lasso, ElasticNet\n",
    "from sklearn.metrics import mean_squared_error,r2_score\n",
    "from sklearn.model_selection import train_test_split, cross_val_score\n",
    "import matplotlib.pyplot as plt\n",
    "from sklearn.linear_model import RidgeCV, LassoCV,ElasticNetCV\n",
    "\n",
    "data.info()"
   ]
  },
  {
   "cell_type": "code",
   "execution_count": 28,
   "metadata": {
    "id": "VSqx3mYLP8LQ"
   },
   "outputs": [],
   "source": [
    "data['Offensive Work Rate'] = data['Offensive Work Rate'].replace([\"Low\",\"Medium\",\"High\"], [0,1,2])\n",
    "data['Defensive Work Rate'] = data['Defensive Work Rate'].replace([\"Low\",\"Medium\",\"High\"], [0,1,2])"
   ]
  },
  {
   "cell_type": "code",
   "execution_count": 29,
   "metadata": {
    "id": "t_MUjQefS0-t"
   },
   "outputs": [],
   "source": [
    "X= data.drop(columns=[\"Value\",\"Name\"])\n",
    "y= data.loc[:,\"Value\"]"
   ]
  },
  {
   "cell_type": "code",
   "execution_count": 30,
   "metadata": {
    "colab": {
     "base_uri": "https://localhost:8080/",
     "height": 317
    },
    "id": "oAC9RRpeAslf",
    "outputId": "a6638c5b-3a3b-407b-d861-97eb1c912322"
   },
   "outputs": [
    {
     "data": {
      "text/html": [
       "<div>\n",
       "<style scoped>\n",
       "    .dataframe tbody tr th:only-of-type {\n",
       "        vertical-align: middle;\n",
       "    }\n",
       "\n",
       "    .dataframe tbody tr th {\n",
       "        vertical-align: top;\n",
       "    }\n",
       "\n",
       "    .dataframe thead th {\n",
       "        text-align: right;\n",
       "    }\n",
       "</style>\n",
       "<table border=\"1\" class=\"dataframe\">\n",
       "  <thead>\n",
       "    <tr style=\"text-align: right;\">\n",
       "      <th></th>\n",
       "      <th>Age</th>\n",
       "      <th>Overall</th>\n",
       "      <th>Potential</th>\n",
       "      <th>Wage</th>\n",
       "      <th>International Reputation</th>\n",
       "      <th>Weak Foot</th>\n",
       "      <th>Skill Moves</th>\n",
       "      <th>Offensive Work Rate</th>\n",
       "      <th>Defensive Work Rate</th>\n",
       "      <th>Height(cm)</th>\n",
       "      <th>...</th>\n",
       "      <th>Position_RB</th>\n",
       "      <th>Position_RCB</th>\n",
       "      <th>Position_RCM</th>\n",
       "      <th>Position_RDM</th>\n",
       "      <th>Position_RF</th>\n",
       "      <th>Position_RM</th>\n",
       "      <th>Position_RS</th>\n",
       "      <th>Position_RW</th>\n",
       "      <th>Position_RWB</th>\n",
       "      <th>Position_ST</th>\n",
       "    </tr>\n",
       "  </thead>\n",
       "  <tbody>\n",
       "    <tr>\n",
       "      <th>0</th>\n",
       "      <td>27</td>\n",
       "      <td>86</td>\n",
       "      <td>87</td>\n",
       "      <td>190.0</td>\n",
       "      <td>3</td>\n",
       "      <td>3</td>\n",
       "      <td>4</td>\n",
       "      <td>2</td>\n",
       "      <td>2</td>\n",
       "      <td>179</td>\n",
       "      <td>...</td>\n",
       "      <td>0</td>\n",
       "      <td>0</td>\n",
       "      <td>0</td>\n",
       "      <td>0</td>\n",
       "      <td>0</td>\n",
       "      <td>0</td>\n",
       "      <td>0</td>\n",
       "      <td>0</td>\n",
       "      <td>0</td>\n",
       "      <td>0</td>\n",
       "    </tr>\n",
       "    <tr>\n",
       "      <th>1</th>\n",
       "      <td>30</td>\n",
       "      <td>85</td>\n",
       "      <td>85</td>\n",
       "      <td>46.0</td>\n",
       "      <td>2</td>\n",
       "      <td>3</td>\n",
       "      <td>3</td>\n",
       "      <td>2</td>\n",
       "      <td>2</td>\n",
       "      <td>172</td>\n",
       "      <td>...</td>\n",
       "      <td>0</td>\n",
       "      <td>0</td>\n",
       "      <td>0</td>\n",
       "      <td>0</td>\n",
       "      <td>0</td>\n",
       "      <td>0</td>\n",
       "      <td>0</td>\n",
       "      <td>0</td>\n",
       "      <td>0</td>\n",
       "      <td>0</td>\n",
       "    </tr>\n",
       "    <tr>\n",
       "      <th>2</th>\n",
       "      <td>31</td>\n",
       "      <td>91</td>\n",
       "      <td>91</td>\n",
       "      <td>350.0</td>\n",
       "      <td>4</td>\n",
       "      <td>5</td>\n",
       "      <td>4</td>\n",
       "      <td>2</td>\n",
       "      <td>2</td>\n",
       "      <td>181</td>\n",
       "      <td>...</td>\n",
       "      <td>0</td>\n",
       "      <td>0</td>\n",
       "      <td>1</td>\n",
       "      <td>0</td>\n",
       "      <td>0</td>\n",
       "      <td>0</td>\n",
       "      <td>0</td>\n",
       "      <td>0</td>\n",
       "      <td>0</td>\n",
       "      <td>0</td>\n",
       "    </tr>\n",
       "    <tr>\n",
       "      <th>3</th>\n",
       "      <td>25</td>\n",
       "      <td>86</td>\n",
       "      <td>89</td>\n",
       "      <td>110.0</td>\n",
       "      <td>3</td>\n",
       "      <td>3</td>\n",
       "      <td>3</td>\n",
       "      <td>2</td>\n",
       "      <td>2</td>\n",
       "      <td>172</td>\n",
       "      <td>...</td>\n",
       "      <td>0</td>\n",
       "      <td>0</td>\n",
       "      <td>1</td>\n",
       "      <td>0</td>\n",
       "      <td>0</td>\n",
       "      <td>0</td>\n",
       "      <td>0</td>\n",
       "      <td>0</td>\n",
       "      <td>0</td>\n",
       "      <td>0</td>\n",
       "    </tr>\n",
       "    <tr>\n",
       "      <th>4</th>\n",
       "      <td>27</td>\n",
       "      <td>89</td>\n",
       "      <td>90</td>\n",
       "      <td>130.0</td>\n",
       "      <td>4</td>\n",
       "      <td>4</td>\n",
       "      <td>3</td>\n",
       "      <td>2</td>\n",
       "      <td>1</td>\n",
       "      <td>177</td>\n",
       "      <td>...</td>\n",
       "      <td>0</td>\n",
       "      <td>0</td>\n",
       "      <td>0</td>\n",
       "      <td>1</td>\n",
       "      <td>0</td>\n",
       "      <td>0</td>\n",
       "      <td>0</td>\n",
       "      <td>0</td>\n",
       "      <td>0</td>\n",
       "      <td>0</td>\n",
       "    </tr>\n",
       "  </tbody>\n",
       "</table>\n",
       "<p>5 rows × 1016 columns</p>\n",
       "</div>"
      ],
      "text/plain": [
       "   Age  Overall  Potential   Wage  International Reputation  Weak Foot  \\\n",
       "0   27       86         87  190.0                         3          3   \n",
       "1   30       85         85   46.0                         2          3   \n",
       "2   31       91         91  350.0                         4          5   \n",
       "3   25       86         89  110.0                         3          3   \n",
       "4   27       89         90  130.0                         4          4   \n",
       "\n",
       "   Skill Moves  Offensive Work Rate  Defensive Work Rate  Height(cm)  ...  \\\n",
       "0            4                    2                    2         179  ...   \n",
       "1            3                    2                    2         172  ...   \n",
       "2            4                    2                    2         181  ...   \n",
       "3            3                    2                    2         172  ...   \n",
       "4            3                    2                    1         177  ...   \n",
       "\n",
       "   Position_RB  Position_RCB  Position_RCM  Position_RDM  Position_RF  \\\n",
       "0            0             0             0             0            0   \n",
       "1            0             0             0             0            0   \n",
       "2            0             0             1             0            0   \n",
       "3            0             0             1             0            0   \n",
       "4            0             0             0             1            0   \n",
       "\n",
       "   Position_RM  Position_RS  Position_RW  Position_RWB  Position_ST  \n",
       "0            0            0            0             0            0  \n",
       "1            0            0            0             0            0  \n",
       "2            0            0            0             0            0  \n",
       "3            0            0            0             0            0  \n",
       "4            0            0            0             0            0  \n",
       "\n",
       "[5 rows x 1016 columns]"
      ]
     },
     "execution_count": 30,
     "metadata": {},
     "output_type": "execute_result"
    }
   ],
   "source": [
    "X = pd.get_dummies(X, prefix = X.select_dtypes(\"object\").columns,drop_first=True)\n",
    "X.head()"
   ]
  },
  {
   "cell_type": "code",
   "execution_count": 31,
   "metadata": {
    "id": "Xq83bNp5ZFPX"
   },
   "outputs": [],
   "source": [
    "X_train, X_test, y_train, y_test = train_test_split(X, y, test_size=0.25, random_state=27)"
   ]
  },
  {
   "cell_type": "code",
   "execution_count": 32,
   "metadata": {
    "id": "NqNmeA4z2ZTx"
   },
   "outputs": [],
   "source": [
    "from sklearn.preprocessing import StandardScaler\n",
    "sc = StandardScaler()\n",
    "X_train = sc.fit_transform(X_train)\n",
    "X_test = sc.transform(X_test)"
   ]
  },
  {
   "cell_type": "code",
   "execution_count": 33,
   "metadata": {
    "id": "AVooObPBZ4fa"
   },
   "outputs": [],
   "source": [
    "cv_model = ElasticNetCV(cv = 10).fit(X_train,y_train)"
   ]
  },
  {
   "cell_type": "code",
   "execution_count": 34,
   "metadata": {
    "colab": {
     "base_uri": "https://localhost:8080/"
    },
    "id": "zo30JSnsZ4ji",
    "outputId": "c6da6d0c-d7f7-4a8a-9009-4f5eeb31a265"
   },
   "outputs": [
    {
     "data": {
      "text/plain": [
       "0.025197437188807754"
      ]
     },
     "execution_count": 34,
     "metadata": {},
     "output_type": "execute_result"
    }
   ],
   "source": [
    "cv_model.alpha_"
   ]
  },
  {
   "cell_type": "code",
   "execution_count": 35,
   "metadata": {
    "colab": {
     "base_uri": "https://localhost:8080/"
    },
    "id": "xoKSFOvYcnCH",
    "outputId": "219dd7a0-5296-41d2-d648-4bb6a875651f"
   },
   "outputs": [
    {
     "name": "stderr",
     "output_type": "stream",
     "text": [
      "C:\\Users\\mafaz\\anaconda3\\lib\\site-packages\\sklearn\\linear_model\\_coordinate_descent.py:529: ConvergenceWarning: Objective did not converge. You might want to increase the number of iterations. Duality gap: 9051.570606487352, tolerance: 59.79475737528426\n",
      "  model = cd_fast.enet_coordinate_descent(\n"
     ]
    }
   ],
   "source": [
    "models = {}\n",
    "for i in range(21):\n",
    "  models[i] = ElasticNet(alpha = cv_model.alpha_,l1_ratio=i/20).fit(X_train,y_train)"
   ]
  },
  {
   "cell_type": "code",
   "execution_count": 36,
   "metadata": {
    "id": "nY7xnckgrmia"
   },
   "outputs": [],
   "source": [
    "mse={}\n",
    "r2={}\n",
    "for i in range(21):\n",
    "  y_pred = models[i].predict(X_test)\n",
    "  mse[i] = np.sqrt(mean_squared_error(y_test,y_pred))\n",
    "  r2[i] = r2_score(y_test,y_pred)"
   ]
  },
  {
   "cell_type": "code",
   "execution_count": 37,
   "metadata": {
    "id": "hpFi2u7Vc0RN"
   },
   "outputs": [],
   "source": [
    "alp=list(np.arange (0, 1.05, 0.05))\n",
    "d={'alpha': alp,\n",
    "        'mse': list(mse.values()), 'r2':list(r2.values())}"
   ]
  },
  {
   "cell_type": "code",
   "execution_count": 38,
   "metadata": {
    "colab": {
     "base_uri": "https://localhost:8080/",
     "height": 466
    },
    "id": "Iq6y4JpB52rh",
    "outputId": "ce5976c9-cb23-46a2-da5c-58672068b02d"
   },
   "outputs": [
    {
     "data": {
      "text/plain": [
       "Text(0, 0.5, 'MSE')"
      ]
     },
     "execution_count": 38,
     "metadata": {},
     "output_type": "execute_result"
    },
    {
     "data": {
      "image/png": "[encoded data removed]",
      "text/plain": [
       "<Figure size 432x288 with 1 Axes>"
      ]
     },
     "metadata": {
      "needs_background": "light"
     },
     "output_type": "display_data"
    }
   ],
   "source": [
    "# Plot for MSE vS Alpha values.\n",
    "plt.plot(d['alpha'], d['mse'])\n",
    "plt.xlabel('Alpha')\n",
    "plt.ylabel('MSE')"
   ]
  },
  {
   "cell_type": "code",
   "execution_count": 39,
   "metadata": {
    "colab": {
     "base_uri": "https://localhost:8080/",
     "height": 466
    },
    "id": "Zi5ck75U6Nb8",
    "outputId": "7f2f44ac-f69b-44a8-ba79-38de992293e7"
   },
   "outputs": [
    {
     "data": {
      "text/plain": [
       "Text(0, 0.5, 'R2')"
      ]
     },
     "execution_count": 39,
     "metadata": {},
     "output_type": "execute_result"
    },
    {
     "data": {
      "image/png": "[encoded data removed]",
      "text/plain": [
       "<Figure size 432x288 with 1 Axes>"
      ]
     },
     "metadata": {
      "needs_background": "light"
     },
     "output_type": "display_data"
    }
   ],
   "source": [
    "# Plot for R2 vs Alpha values.\n",
    "plt.plot(d['alpha'], d['r2'])\n",
    "plt.xlabel('Alpha')\n",
    "plt.ylabel('R2')"
   ]
  },
  {
   "cell_type": "code",
   "execution_count": 40,
   "metadata": {
    "colab": {
     "base_uri": "https://localhost:8080/",
     "height": 708
    },
    "id": "AlAUh88pdF61",
    "outputId": "48c9d227-8a9d-49cc-d90d-054525aba512"
   },
   "outputs": [
    {
     "data": {
      "text/html": [
       "<div>\n",
       "<style scoped>\n",
       "    .dataframe tbody tr th:only-of-type {\n",
       "        vertical-align: middle;\n",
       "    }\n",
       "\n",
       "    .dataframe tbody tr th {\n",
       "        vertical-align: top;\n",
       "    }\n",
       "\n",
       "    .dataframe thead th {\n",
       "        text-align: right;\n",
       "    }\n",
       "</style>\n",
       "<table border=\"1\" class=\"dataframe\">\n",
       "  <thead>\n",
       "    <tr style=\"text-align: right;\">\n",
       "      <th></th>\n",
       "      <th>alpha</th>\n",
       "      <th>mse</th>\n",
       "      <th>r2</th>\n",
       "    </tr>\n",
       "  </thead>\n",
       "  <tbody>\n",
       "    <tr>\n",
       "      <th>0</th>\n",
       "      <td>0.00</td>\n",
       "      <td>2.815777</td>\n",
       "      <td>0.949973</td>\n",
       "    </tr>\n",
       "    <tr>\n",
       "      <th>1</th>\n",
       "      <td>0.05</td>\n",
       "      <td>2.808127</td>\n",
       "      <td>0.950244</td>\n",
       "    </tr>\n",
       "    <tr>\n",
       "      <th>2</th>\n",
       "      <td>0.10</td>\n",
       "      <td>2.802914</td>\n",
       "      <td>0.950429</td>\n",
       "    </tr>\n",
       "    <tr>\n",
       "      <th>3</th>\n",
       "      <td>0.15</td>\n",
       "      <td>2.799905</td>\n",
       "      <td>0.950535</td>\n",
       "    </tr>\n",
       "    <tr>\n",
       "      <th>4</th>\n",
       "      <td>0.20</td>\n",
       "      <td>2.799073</td>\n",
       "      <td>0.950564</td>\n",
       "    </tr>\n",
       "    <tr>\n",
       "      <th>5</th>\n",
       "      <td>0.25</td>\n",
       "      <td>2.799729</td>\n",
       "      <td>0.950541</td>\n",
       "    </tr>\n",
       "    <tr>\n",
       "      <th>6</th>\n",
       "      <td>0.30</td>\n",
       "      <td>2.801523</td>\n",
       "      <td>0.950478</td>\n",
       "    </tr>\n",
       "    <tr>\n",
       "      <th>7</th>\n",
       "      <td>0.35</td>\n",
       "      <td>2.804108</td>\n",
       "      <td>0.950386</td>\n",
       "    </tr>\n",
       "    <tr>\n",
       "      <th>8</th>\n",
       "      <td>0.40</td>\n",
       "      <td>2.806908</td>\n",
       "      <td>0.950287</td>\n",
       "    </tr>\n",
       "    <tr>\n",
       "      <th>9</th>\n",
       "      <td>0.45</td>\n",
       "      <td>2.810093</td>\n",
       "      <td>0.950174</td>\n",
       "    </tr>\n",
       "    <tr>\n",
       "      <th>10</th>\n",
       "      <td>0.50</td>\n",
       "      <td>2.813718</td>\n",
       "      <td>0.950046</td>\n",
       "    </tr>\n",
       "    <tr>\n",
       "      <th>11</th>\n",
       "      <td>0.55</td>\n",
       "      <td>2.817860</td>\n",
       "      <td>0.949899</td>\n",
       "    </tr>\n",
       "    <tr>\n",
       "      <th>12</th>\n",
       "      <td>0.60</td>\n",
       "      <td>2.822414</td>\n",
       "      <td>0.949737</td>\n",
       "    </tr>\n",
       "    <tr>\n",
       "      <th>13</th>\n",
       "      <td>0.65</td>\n",
       "      <td>2.827388</td>\n",
       "      <td>0.949559</td>\n",
       "    </tr>\n",
       "    <tr>\n",
       "      <th>14</th>\n",
       "      <td>0.70</td>\n",
       "      <td>2.832692</td>\n",
       "      <td>0.949370</td>\n",
       "    </tr>\n",
       "    <tr>\n",
       "      <th>15</th>\n",
       "      <td>0.75</td>\n",
       "      <td>2.838547</td>\n",
       "      <td>0.949160</td>\n",
       "    </tr>\n",
       "    <tr>\n",
       "      <th>16</th>\n",
       "      <td>0.80</td>\n",
       "      <td>2.844624</td>\n",
       "      <td>0.948942</td>\n",
       "    </tr>\n",
       "    <tr>\n",
       "      <th>17</th>\n",
       "      <td>0.85</td>\n",
       "      <td>2.851143</td>\n",
       "      <td>0.948708</td>\n",
       "    </tr>\n",
       "    <tr>\n",
       "      <th>18</th>\n",
       "      <td>0.90</td>\n",
       "      <td>2.858160</td>\n",
       "      <td>0.948455</td>\n",
       "    </tr>\n",
       "    <tr>\n",
       "      <th>19</th>\n",
       "      <td>0.95</td>\n",
       "      <td>2.865913</td>\n",
       "      <td>0.948175</td>\n",
       "    </tr>\n",
       "    <tr>\n",
       "      <th>20</th>\n",
       "      <td>1.00</td>\n",
       "      <td>2.874261</td>\n",
       "      <td>0.947873</td>\n",
       "    </tr>\n",
       "  </tbody>\n",
       "</table>\n",
       "</div>"
      ],
      "text/plain": [
       "    alpha       mse        r2\n",
       "0    0.00  2.815777  0.949973\n",
       "1    0.05  2.808127  0.950244\n",
       "2    0.10  2.802914  0.950429\n",
       "3    0.15  2.799905  0.950535\n",
       "4    0.20  2.799073  0.950564\n",
       "5    0.25  2.799729  0.950541\n",
       "6    0.30  2.801523  0.950478\n",
       "7    0.35  2.804108  0.950386\n",
       "8    0.40  2.806908  0.950287\n",
       "9    0.45  2.810093  0.950174\n",
       "10   0.50  2.813718  0.950046\n",
       "11   0.55  2.817860  0.949899\n",
       "12   0.60  2.822414  0.949737\n",
       "13   0.65  2.827388  0.949559\n",
       "14   0.70  2.832692  0.949370\n",
       "15   0.75  2.838547  0.949160\n",
       "16   0.80  2.844624  0.948942\n",
       "17   0.85  2.851143  0.948708\n",
       "18   0.90  2.858160  0.948455\n",
       "19   0.95  2.865913  0.948175\n",
       "20   1.00  2.874261  0.947873"
      ]
     },
     "execution_count": 40,
     "metadata": {},
     "output_type": "execute_result"
    }
   ],
   "source": [
    "pd.DataFrame(d)"
   ]
  },
  {
   "cell_type": "code",
   "execution_count": 41,
   "metadata": {
    "id": "b9wsZsRSWiIa"
   },
   "outputs": [],
   "source": [
    "# Random Forest\n",
    "from sklearn.ensemble import RandomForestRegressor\n",
    "RFR=RandomForestRegressor(n_estimators=75)\n",
    "RFR.fit(X_train,y_train)\n",
    "RFR.score(X_train,y_train)\n",
    "rfr_pred=RFR.predict(X_test)"
   ]
  },
  {
   "cell_type": "code",
   "execution_count": 42,
   "metadata": {
    "colab": {
     "base_uri": "https://localhost:8080/"
    },
    "id": "prpL_iJnCvCS",
    "outputId": "cacb6136-d550-440e-8d62-04a8bb2c403f"
   },
   "outputs": [
    {
     "name": "stdout",
     "output_type": "stream",
     "text": [
      "MSE for Random Forest is 1.862575235350857\n",
      "r2 for Random Forest is 0.97811034732896\n"
     ]
    }
   ],
   "source": [
    "mse_rfr = np.sqrt(mean_squared_error(y_test,rfr_pred))\n",
    "print('MSE for Random Forest is', mse_rfr)\n",
    "r2_rfr = r2_score(y_test,rfr_pred)\n",
    "print('r2 for Random Forest is', r2_rfr)"
   ]
  },
  {
   "cell_type": "code",
   "execution_count": 43,
   "metadata": {
    "colab": {
     "base_uri": "https://localhost:8080/",
     "height": 449
    },
    "id": "V_L0Jwd8HQfm",
    "outputId": "598a7f19-8302-4e1b-d77f-384a7a8ea388"
   },
   "outputs": [
    {
     "data": {
      "image/png": "[encoded data removed]",
      "text/plain": [
       "<Figure size 432x288 with 1 Axes>"
      ]
     },
     "metadata": {
      "needs_background": "light"
     },
     "output_type": "display_data"
    }
   ],
   "source": [
    "importances = RFR.feature_importances_\n",
    "feature_importances = dict(zip(X.columns, importances))\n",
    "\n",
    "# Sort the dictionary by importance score\n",
    "sorted_feature_importances = sorted(feature_importances.items(), key=lambda x: x[1], reverse=True)\n",
    "\n",
    "\n",
    "# Extract the top 10 features\n",
    "top_features = dict(sorted_feature_importances[:5])\n",
    "\n",
    "# Plot the top 10 features\n",
    "plt.barh(range(len(top_features)), list(top_features.values()), align='center')\n",
    "plt.yticks(range(len(top_features)), list(top_features.keys()))\n",
    "plt.xlabel('Feature Importance')\n",
    "plt.ylabel('Feature')\n",
    "plt.show()"
   ]
  },
  {
   "cell_type": "code",
   "execution_count": 44,
   "metadata": {
    "id": "y2mZTyrH6K0K"
   },
   "outputs": [],
   "source": [
    "Xnew=sc.transform(X)"
   ]
  },
  {
   "cell_type": "code",
   "execution_count": 45,
   "metadata": {
    "id": "pGaIkvQC7G07"
   },
   "outputs": [],
   "source": [
    "y_pred = RFR.predict(Xnew)\n",
    "a=pd.DataFrame({'Name':data.Name,'Actual': y, 'Predicted': y_pred})\n",
    "a[\"Difference\"] = (a[\"Actual\"]-a[\"Predicted\"]) \n",
    "a_under = round(a.sort_values('Difference').set_index('Name').head(10),2)\n",
    "a_over = round(a.sort_values('Difference').set_index('Name').tail(10),2)"
   ]
  },
  {
   "cell_type": "code",
   "execution_count": 46,
   "metadata": {
    "colab": {
     "base_uri": "https://localhost:8080/",
     "height": 472
    },
    "id": "8JU9Ur3a9nFc",
    "outputId": "dd3fa859-25de-4757-cb54-28d660cf3b3d"
   },
   "outputs": [
    {
     "data": {
      "image/png": "[encoded data removed]",
      "text/plain": [
       "<Figure size 432x288 with 1 Axes>"
      ]
     },
     "metadata": {
      "needs_background": "light"
     },
     "output_type": "display_data"
    }
   ],
   "source": [
    "# Plot for actual vs predicted values.\n",
    "ax1 = sns.kdeplot(y,  color=\"r\", label=\"Actual Value\")\n",
    "sns.kdeplot(y_pred,  color=\"b\", label=\"Fitted Values\" , ax=ax1)\n",
    "plt.title('Actual vs Prediction')\n",
    "plt.legend()\n",
    "plt.show()\n",
    "plt.close()"
   ]
  },
  {
   "cell_type": "code",
   "execution_count": 47,
   "metadata": {
    "colab": {
     "base_uri": "https://localhost:8080/",
     "height": 567
    },
    "id": "2hRPucWu8vrb",
    "outputId": "93765170-a00e-4fd4-ed5c-62920c97e8d3"
   },
   "outputs": [
    {
     "data": {
      "image/png": "[encoded data removed]",
      "text/plain": [
       "<Figure size 720x360 with 1 Axes>"
      ]
     },
     "metadata": {
      "needs_background": "light"
     },
     "output_type": "display_data"
    }
   ],
   "source": [
    "# Plot for actual vs predicted values for under predicted players.\n",
    "a_over[[\"Actual\",\"Predicted\"]].plot(kind='bar',figsize=(10,5))\n",
    "plt.grid(which='major', linestyle='-', linewidth='0.5', color='green')\n",
    "plt.grid(which='minor', linestyle=':', linewidth='0.5', color='black')\n",
    "plt.title(\"Actual vs Predicted Values for Most Overvalued Players\")\n",
    "plt.xlabel(\"Player Name\")\n",
    "plt.ylabel('Value')\n",
    "plt.show()"
   ]
  },
  {
   "cell_type": "code",
   "execution_count": 48,
   "metadata": {
    "colab": {
     "base_uri": "https://localhost:8080/",
     "height": 584
    },
    "id": "U0q4wsUU89Xu",
    "outputId": "19ac3fef-3884-4758-920f-f05777809b43"
   },
   "outputs": [
    {
     "data": {
      "image/png": "[encoded data removed]",
      "text/plain": [
       "<Figure size 720x360 with 1 Axes>"
      ]
     },
     "metadata": {
      "needs_background": "light"
     },
     "output_type": "display_data"
    }
   ],
   "source": [
    "# Plot for actual vs predicted values for over predicted players.\n",
    "a_under[[\"Actual\",\"Predicted\"]].plot(kind='bar',figsize=(10,5))\n",
    "plt.grid(which='major', linestyle='-', linewidth='0.5', color='green')\n",
    "plt.grid(which='minor', linestyle=':', linewidth='0.5', color='black')\n",
    "plt.title(\"Actual vs Predicted Values for Most Undervalued Players\")\n",
    "plt.xlabel(\"Player Name\")\n",
    "plt.ylabel('Value')\n",
    "plt.show()"
   ]
  },
  {
   "cell_type": "code",
   "execution_count": 49,
   "metadata": {
    "colab": {
     "base_uri": "https://localhost:8080/",
     "height": 394
    },
    "id": "lFSQFsGS8idL",
    "outputId": "802ca8c9-8f4a-4259-b365-87a5e5904ecf"
   },
   "outputs": [
    {
     "data": {
      "text/html": [
       "<div>\n",
       "<style scoped>\n",
       "    .dataframe tbody tr th:only-of-type {\n",
       "        vertical-align: middle;\n",
       "    }\n",
       "\n",
       "    .dataframe tbody tr th {\n",
       "        vertical-align: top;\n",
       "    }\n",
       "\n",
       "    .dataframe thead th {\n",
       "        text-align: right;\n",
       "    }\n",
       "</style>\n",
       "<table border=\"1\" class=\"dataframe\">\n",
       "  <thead>\n",
       "    <tr style=\"text-align: right;\">\n",
       "      <th></th>\n",
       "      <th>Actual</th>\n",
       "      <th>Predicted</th>\n",
       "      <th>Difference</th>\n",
       "    </tr>\n",
       "    <tr>\n",
       "      <th>Name</th>\n",
       "      <th></th>\n",
       "      <th></th>\n",
       "      <th></th>\n",
       "    </tr>\n",
       "  </thead>\n",
       "  <tbody>\n",
       "    <tr>\n",
       "      <th>L. Martínez</th>\n",
       "      <td>98.5</td>\n",
       "      <td>91.62</td>\n",
       "      <td>6.88</td>\n",
       "    </tr>\n",
       "    <tr>\n",
       "      <th>Angeliño</th>\n",
       "      <td>42.0</td>\n",
       "      <td>34.07</td>\n",
       "      <td>7.93</td>\n",
       "    </tr>\n",
       "    <tr>\n",
       "      <th>J. Kimmich</th>\n",
       "      <td>105.5</td>\n",
       "      <td>97.51</td>\n",
       "      <td>7.99</td>\n",
       "    </tr>\n",
       "    <tr>\n",
       "      <th>A. Griezmann</th>\n",
       "      <td>30.5</td>\n",
       "      <td>17.72</td>\n",
       "      <td>12.78</td>\n",
       "    </tr>\n",
       "    <tr>\n",
       "      <th>C. Gakpo</th>\n",
       "      <td>52.0</td>\n",
       "      <td>39.15</td>\n",
       "      <td>12.85</td>\n",
       "    </tr>\n",
       "    <tr>\n",
       "      <th>M. Locatelli</th>\n",
       "      <td>40.0</td>\n",
       "      <td>26.98</td>\n",
       "      <td>13.02</td>\n",
       "    </tr>\n",
       "    <tr>\n",
       "      <th>D. Kulusevski</th>\n",
       "      <td>41.5</td>\n",
       "      <td>26.14</td>\n",
       "      <td>15.36</td>\n",
       "    </tr>\n",
       "    <tr>\n",
       "      <th>K. Mbappé</th>\n",
       "      <td>190.5</td>\n",
       "      <td>169.72</td>\n",
       "      <td>20.78</td>\n",
       "    </tr>\n",
       "    <tr>\n",
       "      <th>C. Romero</th>\n",
       "      <td>49.5</td>\n",
       "      <td>26.93</td>\n",
       "      <td>22.57</td>\n",
       "    </tr>\n",
       "    <tr>\n",
       "      <th>R. Lukaku</th>\n",
       "      <td>68.0</td>\n",
       "      <td>25.87</td>\n",
       "      <td>42.13</td>\n",
       "    </tr>\n",
       "  </tbody>\n",
       "</table>\n",
       "</div>"
      ],
      "text/plain": [
       "               Actual  Predicted  Difference\n",
       "Name                                        \n",
       "L. Martínez      98.5      91.62        6.88\n",
       "Angeliño         42.0      34.07        7.93\n",
       "J. Kimmich      105.5      97.51        7.99\n",
       "A. Griezmann     30.5      17.72       12.78\n",
       "C. Gakpo         52.0      39.15       12.85\n",
       "M. Locatelli     40.0      26.98       13.02\n",
       "D. Kulusevski    41.5      26.14       15.36\n",
       "K. Mbappé       190.5     169.72       20.78\n",
       "C. Romero        49.5      26.93       22.57\n",
       "R. Lukaku        68.0      25.87       42.13"
      ]
     },
     "execution_count": 49,
     "metadata": {},
     "output_type": "execute_result"
    }
   ],
   "source": [
    "# Actual, predicted values and difference of over predicted players.\n",
    "a_over"
   ]
  },
  {
   "cell_type": "code",
   "execution_count": 50,
   "metadata": {
    "colab": {
     "base_uri": "https://localhost:8080/",
     "height": 394
    },
    "id": "rHnb_l6f792E",
    "outputId": "b4548520-6abd-4a00-d2ec-d2ff25d2c4b9"
   },
   "outputs": [
    {
     "data": {
      "text/html": [
       "<div>\n",
       "<style scoped>\n",
       "    .dataframe tbody tr th:only-of-type {\n",
       "        vertical-align: middle;\n",
       "    }\n",
       "\n",
       "    .dataframe tbody tr th {\n",
       "        vertical-align: top;\n",
       "    }\n",
       "\n",
       "    .dataframe thead th {\n",
       "        text-align: right;\n",
       "    }\n",
       "</style>\n",
       "<table border=\"1\" class=\"dataframe\">\n",
       "  <thead>\n",
       "    <tr style=\"text-align: right;\">\n",
       "      <th></th>\n",
       "      <th>Actual</th>\n",
       "      <th>Predicted</th>\n",
       "      <th>Difference</th>\n",
       "    </tr>\n",
       "    <tr>\n",
       "      <th>Name</th>\n",
       "      <th></th>\n",
       "      <th></th>\n",
       "      <th></th>\n",
       "    </tr>\n",
       "  </thead>\n",
       "  <tbody>\n",
       "    <tr>\n",
       "      <th>K. Benzema</th>\n",
       "      <td>64.0</td>\n",
       "      <td>74.94</td>\n",
       "      <td>-10.94</td>\n",
       "    </tr>\n",
       "    <tr>\n",
       "      <th>J. Oblak</th>\n",
       "      <td>85.5</td>\n",
       "      <td>94.74</td>\n",
       "      <td>-9.24</td>\n",
       "    </tr>\n",
       "    <tr>\n",
       "      <th>M. Acuña</th>\n",
       "      <td>46.5</td>\n",
       "      <td>53.46</td>\n",
       "      <td>-6.96</td>\n",
       "    </tr>\n",
       "    <tr>\n",
       "      <th>Marcos Llorente</th>\n",
       "      <td>48.0</td>\n",
       "      <td>54.05</td>\n",
       "      <td>-6.05</td>\n",
       "    </tr>\n",
       "    <tr>\n",
       "      <th>Vinícius Jr.</th>\n",
       "      <td>109.0</td>\n",
       "      <td>114.80</td>\n",
       "      <td>-5.80</td>\n",
       "    </tr>\n",
       "    <tr>\n",
       "      <th>14 J. Park</th>\n",
       "      <td>4.1</td>\n",
       "      <td>9.87</td>\n",
       "      <td>-5.77</td>\n",
       "    </tr>\n",
       "    <tr>\n",
       "      <th>João Félix</th>\n",
       "      <td>68.5</td>\n",
       "      <td>73.53</td>\n",
       "      <td>-5.03</td>\n",
       "    </tr>\n",
       "    <tr>\n",
       "      <th>D. Livaković</th>\n",
       "      <td>20.5</td>\n",
       "      <td>25.49</td>\n",
       "      <td>-4.99</td>\n",
       "    </tr>\n",
       "    <tr>\n",
       "      <th>J. Tartt</th>\n",
       "      <td>85.5</td>\n",
       "      <td>90.21</td>\n",
       "      <td>-4.71</td>\n",
       "    </tr>\n",
       "    <tr>\n",
       "      <th>R. Kent</th>\n",
       "      <td>0.0</td>\n",
       "      <td>4.71</td>\n",
       "      <td>-4.71</td>\n",
       "    </tr>\n",
       "  </tbody>\n",
       "</table>\n",
       "</div>"
      ],
      "text/plain": [
       "                 Actual  Predicted  Difference\n",
       "Name                                          \n",
       "K. Benzema         64.0      74.94      -10.94\n",
       "J. Oblak           85.5      94.74       -9.24\n",
       "M. Acuña           46.5      53.46       -6.96\n",
       "Marcos Llorente    48.0      54.05       -6.05\n",
       "Vinícius Jr.      109.0     114.80       -5.80\n",
       "14 J. Park          4.1       9.87       -5.77\n",
       "João Félix         68.5      73.53       -5.03\n",
       "D. Livaković       20.5      25.49       -4.99\n",
       "J. Tartt           85.5      90.21       -4.71\n",
       "R. Kent             0.0       4.71       -4.71"
      ]
     },
     "execution_count": 50,
     "metadata": {},
     "output_type": "execute_result"
    }
   ],
   "source": [
    "# Actual, predicted values and difference of under predicted players.\n",
    "a_under"
   ]
  }
 ],
 "metadata": {
  "colab": {
   "provenance": []
  },
  "kernelspec": {
   "display_name": "Python 3",
   "language": "python",
   "name": "python3"
  },
  "language_info": {
   "codemirror_mode": {
    "name": "ipython",
    "version": 3
   },
   "file_extension": ".py",
   "mimetype": "text/x-python",
   "name": "python",
   "nbconvert_exporter": "python",
   "pygments_lexer": "ipython3",
   "version": "3.8.3"
  }
 },
 "nbformat": 4,
 "nbformat_minor": 1
}
